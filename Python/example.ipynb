{
 "cells": [
  {
   "cell_type": "markdown",
   "metadata": {},
   "source": [
    "# Example notebook"
   ]
  },
  {
   "cell_type": "markdown",
   "metadata": {},
   "source": [
    "This is an example notebook providing guidance on structure. This applies to jupyter notebooks, and databricks notebooks."
   ]
  },
  {
   "cell_type": "markdown",
   "metadata": {},
   "source": [
    "# Table of Contents (Optional)\n",
    "* Section 1 - Using a function\n",
    "    * Section 1.1 - Average function\n",
    "* Section 2 - Plotting\n",
    "    * Section 2.1 - Basic line plots\n",
    "        * Section 2.1.1 - Matplotlib\n",
    "        * Section 2.1.2 - Plotly"
   ]
  },
  {
   "cell_type": "code",
   "execution_count": null,
   "metadata": {},
   "outputs": [],
   "source": [
    "# Standard library imports\n",
    "import os\n",
    "\n",
    "# Importing third party libraries\n",
    "import matplotlib.pyplot as plt\n",
    "import numpy as np\n",
    "import pandas as pd\n",
    "import plotly.express as px\n",
    "\n",
    "# Importing application specific / in hours packages\n",
    "from example_utils import calculate_average"
   ]
  },
  {
   "cell_type": "markdown",
   "metadata": {},
   "source": [
    "## Section 1 - Using a function"
   ]
  },
  {
   "cell_type": "markdown",
   "metadata": {},
   "source": [
    "### Section 1.1 - Average function\n",
    "\n",
    "The following code block uses a function from example_utils.py. Functions should ideally be removed from a notebook, and placed in a separate python file. This helps to reduce the overall size and complexity of an individual notebook."
   ]
  },
  {
   "cell_type": "code",
   "execution_count": null,
   "metadata": {},
   "outputs": [],
   "source": [
    "number_list = [10,4,6,3,20,5,4,1,6]\n",
    "average = calculate_average(numbers=number_list)\n",
    "average"
   ]
  },
  {
   "cell_type": "markdown",
   "metadata": {},
   "source": [
    "## Section 2 - Plotting"
   ]
  },
  {
   "cell_type": "markdown",
   "metadata": {},
   "source": [
    "### Section 2.1 - Basic line plots"
   ]
  },
  {
   "cell_type": "markdown",
   "metadata": {},
   "source": [
    "#### Section 2.1.1 - Matplotlib"
   ]
  },
  {
   "cell_type": "code",
   "execution_count": null,
   "metadata": {},
   "outputs": [],
   "source": [
    "# x and y values to plot\n",
    "x_values = [1,2,3,4]\n",
    "y_values = [1,2,3,4]\n",
    "\n",
    "# Creating the plot\n",
    "plt.plot(x_values,y_values)\n",
    "\n",
    "# Adding the title, x label, and y label\n",
    "plt.xlabel('x axis')\n",
    "plt.ylabel('y axis')\n",
    "plt.title('Example line plot')\n",
    "\n",
    "# Displaying the plot\n",
    "plt.show()"
   ]
  },
  {
   "cell_type": "markdown",
   "metadata": {},
   "source": [
    "#### Section 2.1.2 - Plotly"
   ]
  },
  {
   "cell_type": "code",
   "execution_count": null,
   "metadata": {},
   "outputs": [],
   "source": [
    "# Dictionary containing the data\n",
    "data_dictionary = {\n",
    "    'x_values':[1,2,3],\n",
    "    'y_values':[4,5,6]\n",
    "}\n",
    "\n",
    "# Converting dictionary into a pandas dataframe\n",
    "example_dataframe = pd.DataFrame(data_dictionary)\n",
    "\n",
    "figure = px.line(example_dataframe,x=\"x_values\",y=\"y_values\",markers=True)\n",
    "figure.show()"
   ]
  }
 ],
 "metadata": {
  "kernelspec": {
   "display_name": "base",
   "language": "python",
   "name": "python3"
  },
  "language_info": {
   "codemirror_mode": {
    "name": "ipython",
    "version": 3
   },
   "file_extension": ".py",
   "mimetype": "text/x-python",
   "name": "python",
   "nbconvert_exporter": "python",
   "pygments_lexer": "ipython3",
   "version": "3.12.4"
  }
 },
 "nbformat": 4,
 "nbformat_minor": 2
}
